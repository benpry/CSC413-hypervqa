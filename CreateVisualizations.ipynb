{
 "cells": [
  {
   "cell_type": "code",
   "execution_count": 45,
   "id": "4521f390-7655-458b-951d-6477e87792dd",
   "metadata": {},
   "outputs": [],
   "source": [
    "from PIL import Image\n",
    "from vr import utils\n",
    "from vr.data import ClevrDataLoader\n",
    "import numpy as np"
   ]
  },
  {
   "cell_type": "code",
   "execution_count": 2,
   "id": "bb9263dc-6c33-4807-99e4-d45b648a8f76",
   "metadata": {},
   "outputs": [],
   "source": [
    "DATA_DIR = \"./data/sqoop-variety_8-repeats_3750\""
   ]
  },
  {
   "cell_type": "code",
   "execution_count": 5,
   "id": "20cb19fe-50cb-42cd-b3f0-59afb8b00783",
   "metadata": {
    "tags": []
   },
   "outputs": [
    {
     "name": "stdout",
     "output_type": "stream",
     "text": [
      "Reading features from  ./data/sqoop-variety_8-repeats_3750/train_features.h5\n",
      "Reading questions from  ./data/sqoop-variety_8-repeats_3750/train_questions.h5\n",
      "Reading question data into memory\n"
     ]
    }
   ],
   "source": [
    "vocab = utils.load_vocab(f\"{DATA_DIR}/vocab.json\")\n",
    "\n",
    "train_loader_kwargs = {\n",
    "  'question_h5': f\"{DATA_DIR}/train_questions.h5\",\n",
    "  'feature_h5': f\"{DATA_DIR}/train_features.h5\",\n",
    "  'load_features': 0,\n",
    "  'vocab': vocab,\n",
    "  'batch_size': 64,\n",
    "  'shuffle': True,\n",
    "  'question_families': None,\n",
    "  'max_samples': None,\n",
    "  'num_workers': 0,\n",
    "  'percent_of_data': 1,\n",
    "}\n",
    "\n",
    "train_loader = ClevrDataLoader(**train_loader_kwargs)"
   ]
  },
  {
   "cell_type": "code",
   "execution_count": 96,
   "id": "9ab43b26-a28b-4841-a472-aafd27e8148d",
   "metadata": {},
   "outputs": [],
   "source": [
    "all_imgs = []\n",
    "i = 0 \n",
    "for batch in train_loader:\n",
    "    _, _, feats, _, _, _ = batch\n",
    "    \n",
    "    img_arr = np.uint8(feats[0,...].transpose(2,0).transpose(0,1) * 255)\n",
    "    all_imgs.append(img_arr)\n",
    "    i += 1\n",
    "    if i >= 5:\n",
    "        break\n",
    "    all_imgs.append(np.uint8(np.ones((64, 5, 3)) * 255))\n",
    "    \n",
    "imgs = np.concatenate(all_imgs, axis=1)    \n",
    "im = Image.fromarray(imgs, mode=\"RGB\")"
   ]
  },
  {
   "cell_type": "code",
   "execution_count": 97,
   "id": "2b20a471-13a1-43d6-8bf9-e68692b99c4d",
   "metadata": {},
   "outputs": [
    {
     "data": {
      "text/plain": [
       "(64, 340, 3)"
      ]
     },
     "execution_count": 97,
     "metadata": {},
     "output_type": "execute_result"
    }
   ],
   "source": [
    "imgs.shape"
   ]
  },
  {
   "cell_type": "code",
   "execution_count": 100,
   "id": "9b2b2d3d-c77f-4003-89a7-d3f31c0861b3",
   "metadata": {},
   "outputs": [],
   "source": [
    "im.save(\"SQOOP_samples.pdf\", \"PDF\")"
   ]
  },
  {
   "cell_type": "code",
   "execution_count": null,
   "id": "664c333e-7dd1-48fd-a255-217b8388dfde",
   "metadata": {},
   "outputs": [],
   "source": []
  }
 ],
 "metadata": {
  "kernelspec": {
   "display_name": "Python 3",
   "language": "python",
   "name": "python3"
  },
  "language_info": {
   "codemirror_mode": {
    "name": "ipython",
    "version": 3
   },
   "file_extension": ".py",
   "mimetype": "text/x-python",
   "name": "python",
   "nbconvert_exporter": "python",
   "pygments_lexer": "ipython3",
   "version": "3.8.5"
  }
 },
 "nbformat": 4,
 "nbformat_minor": 5
}
